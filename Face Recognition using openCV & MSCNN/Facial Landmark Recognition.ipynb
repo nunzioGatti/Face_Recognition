{
 "cells": [
  {
   "cell_type": "code",
   "execution_count": 2,
   "metadata": {},
   "outputs": [],
   "source": [
    "from keras.preprocessing.image import img_to_array\n",
    "import imutils\n",
    "import cv2\n",
    "import numpy as np\n",
    "from mtcnn.mtcnn import MTCNN\n",
    "\n",
    "\n",
    "def to_rgb(img):\n",
    "    w, h = img.shape\n",
    "    ret = np.empty((w, h, 3), dtype=np.uint8)\n",
    "    ret[:, :, 0] = ret[:, :, 1] = ret[:, :, 2] = img\n",
    "    return ret\n",
    "\n",
    "\n",
    "# loading models\n",
    "face_detection = MTCNN()\n",
    "\n",
    "# starting video streaming\n",
    "camera = cv2.VideoCapture(0)\n",
    "while True:\n",
    "    frame = camera.read()[1]\n",
    "    gray = cv2.cvtColor(frame, cv2.COLOR_BGR2GRAY)\n",
    "    \n",
    "    if gray.ndim == 2:\n",
    "        gray = to_rgb(gray)\n",
    "        \n",
    "    faces = face_detection.detect_faces(gray)\n",
    "    if len(faces) > 0 : \n",
    "        fX, fY, fW, fH = faces[0]['box']\n",
    "        cv2.rectangle(frame, (fX, fY), (fX + fW, fY + fH),(0, 0, 255), 2)      \n",
    "        for key,value in faces[0]['keypoints'].items():\n",
    "            cv2.circle(frame, value, radius=2, color = (0, 255, 255))\n",
    "    cv2.imshow('your_face', frame)\n",
    "    if cv2.waitKey(1) & 0xFF == ord('q'):\n",
    "        break\n",
    "camera.release()\n",
    "cv2.destroyAllWindows()"
   ]
  },
  {
   "cell_type": "code",
   "execution_count": null,
   "metadata": {},
   "outputs": [],
   "source": []
  }
 ],
 "metadata": {
  "kernelspec": {
   "display_name": "Python 3",
   "language": "python",
   "name": "python3"
  },
  "language_info": {
   "codemirror_mode": {
    "name": "ipython",
    "version": 3
   },
   "file_extension": ".py",
   "mimetype": "text/x-python",
   "name": "python",
   "nbconvert_exporter": "python",
   "pygments_lexer": "ipython3",
   "version": "3.7.3"
  }
 },
 "nbformat": 4,
 "nbformat_minor": 2
}
